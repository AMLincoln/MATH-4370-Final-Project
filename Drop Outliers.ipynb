{
 "cells": [
  {
   "cell_type": "code",
   "execution_count": 1,
   "id": "ffb53086-6493-423d-acdb-27a8495506a9",
   "metadata": {},
   "outputs": [],
   "source": [
    "## Step 1: Handle missing data - decide whether to remove or impute missing values. \n",
    "## Per advise from Dr. Yang, as the number of empty cells in the 'Total Bedroom' is such an insignificant percentage (~1.002%), this data will simply be removed"
   ]
  },
  {
   "cell_type": "code",
   "execution_count": 2,
   "id": "772db73b-f96b-4c94-8c10-255ed6522a18",
   "metadata": {},
   "outputs": [],
   "source": [
    "## line magic that instructs Jupyter to capture Matplotlib plots and render them in the cell output\n",
    "%matplotlib inline\n",
    "## Import libraries and tools necessary for data analysis and plotting\n",
    "## NumPy package for scientific computing in Python is included in pandas\n",
    "## pandas is an open source data analysis and manipulation tool\n",
    "import pandas as pd\n",
    "## matplotlib is a comprehensive library for creating static, animated, and interactive visualizations\n",
    "import matplotlib.pyplot as plt\n",
    "## seaborn is a data visualization library based on matplotlib that provides a high level interface for drawing visually attractive and informative statistical graphs\n",
    "import seaborn as sns\n",
    "\n",
    "\n",
    "## Sets background of plots to gray with grid lines\n",
    "sns.set(style=\"darkgrid\")"
   ]
  },
  {
   "cell_type": "code",
   "execution_count": 3,
   "id": "224a68e7-a800-4bd1-903f-8b738b327a8b",
   "metadata": {},
   "outputs": [],
   "source": [
    "df = pd.read_csv('housing.csv')"
   ]
  },
  {
   "cell_type": "code",
   "execution_count": 4,
   "id": "6b43b396-e80b-47fd-ba2c-2f0bc046e4cd",
   "metadata": {},
   "outputs": [],
   "source": [
    "df.columns = ['Longitude', 'Latitude', 'Housing Median Age', 'Total Rooms', 'Total Bedrooms', 'Population', 'Households', 'Median Income', 'Median House Value', 'Proximity to Ocean']"
   ]
  },
  {
   "cell_type": "code",
   "execution_count": 5,
   "id": "38a25716-6353-44d6-be1b-dafd87b6214e",
   "metadata": {},
   "outputs": [
    {
     "data": {
      "text/html": [
       "<div>\n",
       "<style scoped>\n",
       "    .dataframe tbody tr th:only-of-type {\n",
       "        vertical-align: middle;\n",
       "    }\n",
       "\n",
       "    .dataframe tbody tr th {\n",
       "        vertical-align: top;\n",
       "    }\n",
       "\n",
       "    .dataframe thead th {\n",
       "        text-align: right;\n",
       "    }\n",
       "</style>\n",
       "<table border=\"1\" class=\"dataframe\">\n",
       "  <thead>\n",
       "    <tr style=\"text-align: right;\">\n",
       "      <th></th>\n",
       "      <th>Longitude</th>\n",
       "      <th>Latitude</th>\n",
       "      <th>Housing Median Age</th>\n",
       "      <th>Total Rooms</th>\n",
       "      <th>Total Bedrooms</th>\n",
       "      <th>Population</th>\n",
       "      <th>Households</th>\n",
       "      <th>Median Income</th>\n",
       "      <th>Median House Value</th>\n",
       "      <th>Proximity to Ocean</th>\n",
       "    </tr>\n",
       "  </thead>\n",
       "  <tbody>\n",
       "    <tr>\n",
       "      <th>0</th>\n",
       "      <td>-122.23</td>\n",
       "      <td>37.88</td>\n",
       "      <td>41.0</td>\n",
       "      <td>880.0</td>\n",
       "      <td>129.0</td>\n",
       "      <td>322.0</td>\n",
       "      <td>126.0</td>\n",
       "      <td>8.3252</td>\n",
       "      <td>452600.0</td>\n",
       "      <td>NEAR BAY</td>\n",
       "    </tr>\n",
       "    <tr>\n",
       "      <th>1</th>\n",
       "      <td>-122.22</td>\n",
       "      <td>37.86</td>\n",
       "      <td>21.0</td>\n",
       "      <td>7099.0</td>\n",
       "      <td>1106.0</td>\n",
       "      <td>2401.0</td>\n",
       "      <td>1138.0</td>\n",
       "      <td>8.3014</td>\n",
       "      <td>358500.0</td>\n",
       "      <td>NEAR BAY</td>\n",
       "    </tr>\n",
       "    <tr>\n",
       "      <th>2</th>\n",
       "      <td>-122.24</td>\n",
       "      <td>37.85</td>\n",
       "      <td>52.0</td>\n",
       "      <td>1467.0</td>\n",
       "      <td>190.0</td>\n",
       "      <td>496.0</td>\n",
       "      <td>177.0</td>\n",
       "      <td>7.2574</td>\n",
       "      <td>352100.0</td>\n",
       "      <td>NEAR BAY</td>\n",
       "    </tr>\n",
       "    <tr>\n",
       "      <th>3</th>\n",
       "      <td>-122.25</td>\n",
       "      <td>37.85</td>\n",
       "      <td>52.0</td>\n",
       "      <td>1274.0</td>\n",
       "      <td>235.0</td>\n",
       "      <td>558.0</td>\n",
       "      <td>219.0</td>\n",
       "      <td>5.6431</td>\n",
       "      <td>341300.0</td>\n",
       "      <td>NEAR BAY</td>\n",
       "    </tr>\n",
       "    <tr>\n",
       "      <th>4</th>\n",
       "      <td>-122.25</td>\n",
       "      <td>37.85</td>\n",
       "      <td>52.0</td>\n",
       "      <td>1627.0</td>\n",
       "      <td>280.0</td>\n",
       "      <td>565.0</td>\n",
       "      <td>259.0</td>\n",
       "      <td>3.8462</td>\n",
       "      <td>342200.0</td>\n",
       "      <td>NEAR BAY</td>\n",
       "    </tr>\n",
       "  </tbody>\n",
       "</table>\n",
       "</div>"
      ],
      "text/plain": [
       "   Longitude  Latitude  Housing Median Age  Total Rooms  Total Bedrooms  \\\n",
       "0    -122.23     37.88                41.0        880.0           129.0   \n",
       "1    -122.22     37.86                21.0       7099.0          1106.0   \n",
       "2    -122.24     37.85                52.0       1467.0           190.0   \n",
       "3    -122.25     37.85                52.0       1274.0           235.0   \n",
       "4    -122.25     37.85                52.0       1627.0           280.0   \n",
       "\n",
       "   Population  Households  Median Income  Median House Value  \\\n",
       "0       322.0       126.0         8.3252            452600.0   \n",
       "1      2401.0      1138.0         8.3014            358500.0   \n",
       "2       496.0       177.0         7.2574            352100.0   \n",
       "3       558.0       219.0         5.6431            341300.0   \n",
       "4       565.0       259.0         3.8462            342200.0   \n",
       "\n",
       "  Proximity to Ocean  \n",
       "0           NEAR BAY  \n",
       "1           NEAR BAY  \n",
       "2           NEAR BAY  \n",
       "3           NEAR BAY  \n",
       "4           NEAR BAY  "
      ]
     },
     "execution_count": 5,
     "metadata": {},
     "output_type": "execute_result"
    }
   ],
   "source": [
    "df.head()"
   ]
  },
  {
   "cell_type": "code",
   "execution_count": 6,
   "id": "8117261b-025d-43b7-9f3a-f6a8085334a5",
   "metadata": {},
   "outputs": [
    {
     "data": {
      "text/html": [
       "<div>\n",
       "<style scoped>\n",
       "    .dataframe tbody tr th:only-of-type {\n",
       "        vertical-align: middle;\n",
       "    }\n",
       "\n",
       "    .dataframe tbody tr th {\n",
       "        vertical-align: top;\n",
       "    }\n",
       "\n",
       "    .dataframe thead th {\n",
       "        text-align: right;\n",
       "    }\n",
       "</style>\n",
       "<table border=\"1\" class=\"dataframe\">\n",
       "  <thead>\n",
       "    <tr style=\"text-align: right;\">\n",
       "      <th></th>\n",
       "      <th>Longitude</th>\n",
       "      <th>Latitude</th>\n",
       "      <th>Housing Median Age</th>\n",
       "      <th>Total Rooms</th>\n",
       "      <th>Total Bedrooms</th>\n",
       "      <th>Population</th>\n",
       "      <th>Households</th>\n",
       "      <th>Median Income</th>\n",
       "      <th>Median House Value</th>\n",
       "      <th>Proximity to Ocean</th>\n",
       "    </tr>\n",
       "  </thead>\n",
       "  <tbody>\n",
       "    <tr>\n",
       "      <th>20635</th>\n",
       "      <td>-121.09</td>\n",
       "      <td>39.48</td>\n",
       "      <td>25.0</td>\n",
       "      <td>1665.0</td>\n",
       "      <td>374.0</td>\n",
       "      <td>845.0</td>\n",
       "      <td>330.0</td>\n",
       "      <td>1.5603</td>\n",
       "      <td>78100.0</td>\n",
       "      <td>INLAND</td>\n",
       "    </tr>\n",
       "    <tr>\n",
       "      <th>20636</th>\n",
       "      <td>-121.21</td>\n",
       "      <td>39.49</td>\n",
       "      <td>18.0</td>\n",
       "      <td>697.0</td>\n",
       "      <td>150.0</td>\n",
       "      <td>356.0</td>\n",
       "      <td>114.0</td>\n",
       "      <td>2.5568</td>\n",
       "      <td>77100.0</td>\n",
       "      <td>INLAND</td>\n",
       "    </tr>\n",
       "    <tr>\n",
       "      <th>20637</th>\n",
       "      <td>-121.22</td>\n",
       "      <td>39.43</td>\n",
       "      <td>17.0</td>\n",
       "      <td>2254.0</td>\n",
       "      <td>485.0</td>\n",
       "      <td>1007.0</td>\n",
       "      <td>433.0</td>\n",
       "      <td>1.7000</td>\n",
       "      <td>92300.0</td>\n",
       "      <td>INLAND</td>\n",
       "    </tr>\n",
       "    <tr>\n",
       "      <th>20638</th>\n",
       "      <td>-121.32</td>\n",
       "      <td>39.43</td>\n",
       "      <td>18.0</td>\n",
       "      <td>1860.0</td>\n",
       "      <td>409.0</td>\n",
       "      <td>741.0</td>\n",
       "      <td>349.0</td>\n",
       "      <td>1.8672</td>\n",
       "      <td>84700.0</td>\n",
       "      <td>INLAND</td>\n",
       "    </tr>\n",
       "    <tr>\n",
       "      <th>20639</th>\n",
       "      <td>-121.24</td>\n",
       "      <td>39.37</td>\n",
       "      <td>16.0</td>\n",
       "      <td>2785.0</td>\n",
       "      <td>616.0</td>\n",
       "      <td>1387.0</td>\n",
       "      <td>530.0</td>\n",
       "      <td>2.3886</td>\n",
       "      <td>89400.0</td>\n",
       "      <td>INLAND</td>\n",
       "    </tr>\n",
       "  </tbody>\n",
       "</table>\n",
       "</div>"
      ],
      "text/plain": [
       "       Longitude  Latitude  Housing Median Age  Total Rooms  Total Bedrooms  \\\n",
       "20635    -121.09     39.48                25.0       1665.0           374.0   \n",
       "20636    -121.21     39.49                18.0        697.0           150.0   \n",
       "20637    -121.22     39.43                17.0       2254.0           485.0   \n",
       "20638    -121.32     39.43                18.0       1860.0           409.0   \n",
       "20639    -121.24     39.37                16.0       2785.0           616.0   \n",
       "\n",
       "       Population  Households  Median Income  Median House Value  \\\n",
       "20635       845.0       330.0         1.5603             78100.0   \n",
       "20636       356.0       114.0         2.5568             77100.0   \n",
       "20637      1007.0       433.0         1.7000             92300.0   \n",
       "20638       741.0       349.0         1.8672             84700.0   \n",
       "20639      1387.0       530.0         2.3886             89400.0   \n",
       "\n",
       "      Proximity to Ocean  \n",
       "20635             INLAND  \n",
       "20636             INLAND  \n",
       "20637             INLAND  \n",
       "20638             INLAND  \n",
       "20639             INLAND  "
      ]
     },
     "execution_count": 6,
     "metadata": {},
     "output_type": "execute_result"
    }
   ],
   "source": [
    "df.tail()"
   ]
  },
  {
   "cell_type": "code",
   "execution_count": 7,
   "id": "fbbcbcf3-6970-4c69-b02c-fdebe9fee83e",
   "metadata": {},
   "outputs": [
    {
     "name": "stdout",
     "output_type": "stream",
     "text": [
      "<class 'pandas.core.frame.DataFrame'>\n",
      "RangeIndex: 20640 entries, 0 to 20639\n",
      "Data columns (total 10 columns):\n",
      " #   Column              Non-Null Count  Dtype  \n",
      "---  ------              --------------  -----  \n",
      " 0   Longitude           20640 non-null  float64\n",
      " 1   Latitude            20640 non-null  float64\n",
      " 2   Housing Median Age  20640 non-null  float64\n",
      " 3   Total Rooms         20640 non-null  float64\n",
      " 4   Total Bedrooms      20433 non-null  float64\n",
      " 5   Population          20640 non-null  float64\n",
      " 6   Households          20640 non-null  float64\n",
      " 7   Median Income       20640 non-null  float64\n",
      " 8   Median House Value  20640 non-null  float64\n",
      " 9   Proximity to Ocean  20640 non-null  object \n",
      "dtypes: float64(9), object(1)\n",
      "memory usage: 1.6+ MB\n"
     ]
    }
   ],
   "source": [
    "df.info()"
   ]
  },
  {
   "cell_type": "code",
   "execution_count": 8,
   "id": "f308509a-609e-452b-8a66-abb292ee45fe",
   "metadata": {},
   "outputs": [
    {
     "data": {
      "text/html": [
       "<div>\n",
       "<style scoped>\n",
       "    .dataframe tbody tr th:only-of-type {\n",
       "        vertical-align: middle;\n",
       "    }\n",
       "\n",
       "    .dataframe tbody tr th {\n",
       "        vertical-align: top;\n",
       "    }\n",
       "\n",
       "    .dataframe thead th {\n",
       "        text-align: right;\n",
       "    }\n",
       "</style>\n",
       "<table border=\"1\" class=\"dataframe\">\n",
       "  <thead>\n",
       "    <tr style=\"text-align: right;\">\n",
       "      <th></th>\n",
       "      <th>Longitude</th>\n",
       "      <th>Latitude</th>\n",
       "      <th>Housing Median Age</th>\n",
       "      <th>Total Rooms</th>\n",
       "      <th>Total Bedrooms</th>\n",
       "      <th>Population</th>\n",
       "      <th>Households</th>\n",
       "      <th>Median Income</th>\n",
       "      <th>Median House Value</th>\n",
       "    </tr>\n",
       "  </thead>\n",
       "  <tbody>\n",
       "    <tr>\n",
       "      <th>count</th>\n",
       "      <td>20640.000000</td>\n",
       "      <td>20640.000000</td>\n",
       "      <td>20640.000000</td>\n",
       "      <td>20640.000000</td>\n",
       "      <td>20433.000000</td>\n",
       "      <td>20640.000000</td>\n",
       "      <td>20640.000000</td>\n",
       "      <td>20640.000000</td>\n",
       "      <td>20640.000000</td>\n",
       "    </tr>\n",
       "    <tr>\n",
       "      <th>mean</th>\n",
       "      <td>-119.569704</td>\n",
       "      <td>35.631861</td>\n",
       "      <td>28.639486</td>\n",
       "      <td>2635.763081</td>\n",
       "      <td>537.870553</td>\n",
       "      <td>1425.476744</td>\n",
       "      <td>499.539680</td>\n",
       "      <td>3.870671</td>\n",
       "      <td>206855.816909</td>\n",
       "    </tr>\n",
       "    <tr>\n",
       "      <th>std</th>\n",
       "      <td>2.003532</td>\n",
       "      <td>2.135952</td>\n",
       "      <td>12.585558</td>\n",
       "      <td>2181.615252</td>\n",
       "      <td>421.385070</td>\n",
       "      <td>1132.462122</td>\n",
       "      <td>382.329753</td>\n",
       "      <td>1.899822</td>\n",
       "      <td>115395.615874</td>\n",
       "    </tr>\n",
       "    <tr>\n",
       "      <th>min</th>\n",
       "      <td>-124.350000</td>\n",
       "      <td>32.540000</td>\n",
       "      <td>1.000000</td>\n",
       "      <td>2.000000</td>\n",
       "      <td>1.000000</td>\n",
       "      <td>3.000000</td>\n",
       "      <td>1.000000</td>\n",
       "      <td>0.499900</td>\n",
       "      <td>14999.000000</td>\n",
       "    </tr>\n",
       "    <tr>\n",
       "      <th>25%</th>\n",
       "      <td>-121.800000</td>\n",
       "      <td>33.930000</td>\n",
       "      <td>18.000000</td>\n",
       "      <td>1447.750000</td>\n",
       "      <td>296.000000</td>\n",
       "      <td>787.000000</td>\n",
       "      <td>280.000000</td>\n",
       "      <td>2.563400</td>\n",
       "      <td>119600.000000</td>\n",
       "    </tr>\n",
       "    <tr>\n",
       "      <th>50%</th>\n",
       "      <td>-118.490000</td>\n",
       "      <td>34.260000</td>\n",
       "      <td>29.000000</td>\n",
       "      <td>2127.000000</td>\n",
       "      <td>435.000000</td>\n",
       "      <td>1166.000000</td>\n",
       "      <td>409.000000</td>\n",
       "      <td>3.534800</td>\n",
       "      <td>179700.000000</td>\n",
       "    </tr>\n",
       "    <tr>\n",
       "      <th>75%</th>\n",
       "      <td>-118.010000</td>\n",
       "      <td>37.710000</td>\n",
       "      <td>37.000000</td>\n",
       "      <td>3148.000000</td>\n",
       "      <td>647.000000</td>\n",
       "      <td>1725.000000</td>\n",
       "      <td>605.000000</td>\n",
       "      <td>4.743250</td>\n",
       "      <td>264725.000000</td>\n",
       "    </tr>\n",
       "    <tr>\n",
       "      <th>max</th>\n",
       "      <td>-114.310000</td>\n",
       "      <td>41.950000</td>\n",
       "      <td>52.000000</td>\n",
       "      <td>39320.000000</td>\n",
       "      <td>6445.000000</td>\n",
       "      <td>35682.000000</td>\n",
       "      <td>6082.000000</td>\n",
       "      <td>15.000100</td>\n",
       "      <td>500001.000000</td>\n",
       "    </tr>\n",
       "  </tbody>\n",
       "</table>\n",
       "</div>"
      ],
      "text/plain": [
       "          Longitude      Latitude  Housing Median Age   Total Rooms  \\\n",
       "count  20640.000000  20640.000000        20640.000000  20640.000000   \n",
       "mean    -119.569704     35.631861           28.639486   2635.763081   \n",
       "std        2.003532      2.135952           12.585558   2181.615252   \n",
       "min     -124.350000     32.540000            1.000000      2.000000   \n",
       "25%     -121.800000     33.930000           18.000000   1447.750000   \n",
       "50%     -118.490000     34.260000           29.000000   2127.000000   \n",
       "75%     -118.010000     37.710000           37.000000   3148.000000   \n",
       "max     -114.310000     41.950000           52.000000  39320.000000   \n",
       "\n",
       "       Total Bedrooms    Population    Households  Median Income  \\\n",
       "count    20433.000000  20640.000000  20640.000000   20640.000000   \n",
       "mean       537.870553   1425.476744    499.539680       3.870671   \n",
       "std        421.385070   1132.462122    382.329753       1.899822   \n",
       "min          1.000000      3.000000      1.000000       0.499900   \n",
       "25%        296.000000    787.000000    280.000000       2.563400   \n",
       "50%        435.000000   1166.000000    409.000000       3.534800   \n",
       "75%        647.000000   1725.000000    605.000000       4.743250   \n",
       "max       6445.000000  35682.000000   6082.000000      15.000100   \n",
       "\n",
       "       Median House Value  \n",
       "count        20640.000000  \n",
       "mean        206855.816909  \n",
       "std         115395.615874  \n",
       "min          14999.000000  \n",
       "25%         119600.000000  \n",
       "50%         179700.000000  \n",
       "75%         264725.000000  \n",
       "max         500001.000000  "
      ]
     },
     "execution_count": 8,
     "metadata": {},
     "output_type": "execute_result"
    }
   ],
   "source": [
    "df.describe()"
   ]
  },
  {
   "cell_type": "code",
   "execution_count": 9,
   "id": "f52026fb-9617-4dc2-b77b-202b471bb7d7",
   "metadata": {},
   "outputs": [],
   "source": [
    "# Will drop all rows where the colum 'Total Bedrooms' is empty\n",
    "df = df.dropna(subset=['Total Bedrooms'])"
   ]
  },
  {
   "cell_type": "code",
   "execution_count": 10,
   "id": "7805cda6-6b35-482a-b1c4-49fc526ca712",
   "metadata": {},
   "outputs": [
    {
     "data": {
      "text/html": [
       "<div>\n",
       "<style scoped>\n",
       "    .dataframe tbody tr th:only-of-type {\n",
       "        vertical-align: middle;\n",
       "    }\n",
       "\n",
       "    .dataframe tbody tr th {\n",
       "        vertical-align: top;\n",
       "    }\n",
       "\n",
       "    .dataframe thead th {\n",
       "        text-align: right;\n",
       "    }\n",
       "</style>\n",
       "<table border=\"1\" class=\"dataframe\">\n",
       "  <thead>\n",
       "    <tr style=\"text-align: right;\">\n",
       "      <th></th>\n",
       "      <th>Longitude</th>\n",
       "      <th>Latitude</th>\n",
       "      <th>Housing Median Age</th>\n",
       "      <th>Total Rooms</th>\n",
       "      <th>Total Bedrooms</th>\n",
       "      <th>Population</th>\n",
       "      <th>Households</th>\n",
       "      <th>Median Income</th>\n",
       "      <th>Median House Value</th>\n",
       "    </tr>\n",
       "  </thead>\n",
       "  <tbody>\n",
       "    <tr>\n",
       "      <th>count</th>\n",
       "      <td>20433.000000</td>\n",
       "      <td>20433.000000</td>\n",
       "      <td>20433.000000</td>\n",
       "      <td>20433.000000</td>\n",
       "      <td>20433.000000</td>\n",
       "      <td>20433.000000</td>\n",
       "      <td>20433.000000</td>\n",
       "      <td>20433.000000</td>\n",
       "      <td>20433.000000</td>\n",
       "    </tr>\n",
       "    <tr>\n",
       "      <th>mean</th>\n",
       "      <td>-119.570689</td>\n",
       "      <td>35.633221</td>\n",
       "      <td>28.633094</td>\n",
       "      <td>2636.504233</td>\n",
       "      <td>537.870553</td>\n",
       "      <td>1424.946949</td>\n",
       "      <td>499.433465</td>\n",
       "      <td>3.871162</td>\n",
       "      <td>206864.413155</td>\n",
       "    </tr>\n",
       "    <tr>\n",
       "      <th>std</th>\n",
       "      <td>2.003578</td>\n",
       "      <td>2.136348</td>\n",
       "      <td>12.591805</td>\n",
       "      <td>2185.269567</td>\n",
       "      <td>421.385070</td>\n",
       "      <td>1133.208490</td>\n",
       "      <td>382.299226</td>\n",
       "      <td>1.899291</td>\n",
       "      <td>115435.667099</td>\n",
       "    </tr>\n",
       "    <tr>\n",
       "      <th>min</th>\n",
       "      <td>-124.350000</td>\n",
       "      <td>32.540000</td>\n",
       "      <td>1.000000</td>\n",
       "      <td>2.000000</td>\n",
       "      <td>1.000000</td>\n",
       "      <td>3.000000</td>\n",
       "      <td>1.000000</td>\n",
       "      <td>0.499900</td>\n",
       "      <td>14999.000000</td>\n",
       "    </tr>\n",
       "    <tr>\n",
       "      <th>25%</th>\n",
       "      <td>-121.800000</td>\n",
       "      <td>33.930000</td>\n",
       "      <td>18.000000</td>\n",
       "      <td>1450.000000</td>\n",
       "      <td>296.000000</td>\n",
       "      <td>787.000000</td>\n",
       "      <td>280.000000</td>\n",
       "      <td>2.563700</td>\n",
       "      <td>119500.000000</td>\n",
       "    </tr>\n",
       "    <tr>\n",
       "      <th>50%</th>\n",
       "      <td>-118.490000</td>\n",
       "      <td>34.260000</td>\n",
       "      <td>29.000000</td>\n",
       "      <td>2127.000000</td>\n",
       "      <td>435.000000</td>\n",
       "      <td>1166.000000</td>\n",
       "      <td>409.000000</td>\n",
       "      <td>3.536500</td>\n",
       "      <td>179700.000000</td>\n",
       "    </tr>\n",
       "    <tr>\n",
       "      <th>75%</th>\n",
       "      <td>-118.010000</td>\n",
       "      <td>37.720000</td>\n",
       "      <td>37.000000</td>\n",
       "      <td>3143.000000</td>\n",
       "      <td>647.000000</td>\n",
       "      <td>1722.000000</td>\n",
       "      <td>604.000000</td>\n",
       "      <td>4.744000</td>\n",
       "      <td>264700.000000</td>\n",
       "    </tr>\n",
       "    <tr>\n",
       "      <th>max</th>\n",
       "      <td>-114.310000</td>\n",
       "      <td>41.950000</td>\n",
       "      <td>52.000000</td>\n",
       "      <td>39320.000000</td>\n",
       "      <td>6445.000000</td>\n",
       "      <td>35682.000000</td>\n",
       "      <td>6082.000000</td>\n",
       "      <td>15.000100</td>\n",
       "      <td>500001.000000</td>\n",
       "    </tr>\n",
       "  </tbody>\n",
       "</table>\n",
       "</div>"
      ],
      "text/plain": [
       "          Longitude      Latitude  Housing Median Age   Total Rooms  \\\n",
       "count  20433.000000  20433.000000        20433.000000  20433.000000   \n",
       "mean    -119.570689     35.633221           28.633094   2636.504233   \n",
       "std        2.003578      2.136348           12.591805   2185.269567   \n",
       "min     -124.350000     32.540000            1.000000      2.000000   \n",
       "25%     -121.800000     33.930000           18.000000   1450.000000   \n",
       "50%     -118.490000     34.260000           29.000000   2127.000000   \n",
       "75%     -118.010000     37.720000           37.000000   3143.000000   \n",
       "max     -114.310000     41.950000           52.000000  39320.000000   \n",
       "\n",
       "       Total Bedrooms    Population    Households  Median Income  \\\n",
       "count    20433.000000  20433.000000  20433.000000   20433.000000   \n",
       "mean       537.870553   1424.946949    499.433465       3.871162   \n",
       "std        421.385070   1133.208490    382.299226       1.899291   \n",
       "min          1.000000      3.000000      1.000000       0.499900   \n",
       "25%        296.000000    787.000000    280.000000       2.563700   \n",
       "50%        435.000000   1166.000000    409.000000       3.536500   \n",
       "75%        647.000000   1722.000000    604.000000       4.744000   \n",
       "max       6445.000000  35682.000000   6082.000000      15.000100   \n",
       "\n",
       "       Median House Value  \n",
       "count        20433.000000  \n",
       "mean        206864.413155  \n",
       "std         115435.667099  \n",
       "min          14999.000000  \n",
       "25%         119500.000000  \n",
       "50%         179700.000000  \n",
       "75%         264700.000000  \n",
       "max         500001.000000  "
      ]
     },
     "execution_count": 10,
     "metadata": {},
     "output_type": "execute_result"
    }
   ],
   "source": [
    "## Results indicate that rows have been removed.\n",
    "df.describe()"
   ]
  },
  {
   "cell_type": "code",
   "execution_count": 11,
   "id": "045e354f-c6b7-4d36-9478-7b57eb2d868e",
   "metadata": {},
   "outputs": [
    {
     "data": {
      "text/plain": [
       "Longitude             0\n",
       "Latitude              0\n",
       "Housing Median Age    0\n",
       "Total Rooms           0\n",
       "Total Bedrooms        0\n",
       "Population            0\n",
       "Households            0\n",
       "Median Income         0\n",
       "Median House Value    0\n",
       "Proximity to Ocean    0\n",
       "dtype: int64"
      ]
     },
     "execution_count": 11,
     "metadata": {},
     "output_type": "execute_result"
    }
   ],
   "source": [
    "## Checks each column for null values, and returns how many total cells are empty per column. As 'Total Bedrooms' is not currently showing\n",
    "## any empty cells, this indicates our drop method above has worked.\n",
    "df.isnull().sum()"
   ]
  },
  {
   "cell_type": "code",
   "execution_count": 12,
   "id": "5b9c061b-c784-4032-8c41-e7d64d779575",
   "metadata": {},
   "outputs": [],
   "source": [
    "## Step 2: Feature Engineering - Create or transform features if necessary (e.g. transform categorical data into numerical form using\n",
    "## one-hot encoding.\n",
    "## As identified earlier, the 'Proximity to Ocean' category is not numerical, but categorical; and so must be transformed\n",
    "## Reference: https://www.geeksforgeeks.org/ml-one-hot-encoding/"
   ]
  },
  {
   "cell_type": "code",
   "execution_count": 13,
   "id": "13e6e113-a423-4bf3-a6d3-86d6a570f7c0",
   "metadata": {},
   "outputs": [
    {
     "data": {
      "text/plain": [
       "Proximity to Ocean\n",
       "<1H OCEAN     9034\n",
       "INLAND        6496\n",
       "NEAR OCEAN    2628\n",
       "NEAR BAY      2270\n",
       "ISLAND           5\n",
       "Name: count, dtype: int64"
      ]
     },
     "execution_count": 13,
     "metadata": {},
     "output_type": "execute_result"
    }
   ],
   "source": [
    "df['Proximity to Ocean'].value_counts()"
   ]
  },
  {
   "cell_type": "code",
   "execution_count": 14,
   "id": "77842a2a-9475-4b43-bfdc-2e528658fffc",
   "metadata": {},
   "outputs": [],
   "source": [
    "## There are two options for one-hot encoding in python. Via .get_dummies() function from pandas, or via sklearn OneHotEncoder function.\n",
    "## The former is simpler to set up if you have already identified the categorical columns. The second is an all-in-one identification and\n",
    "## one-hot encoding function, but requires significantly more setup to implement. Both output the same result. Given this and that we have \n",
    "## already identified our categorical features in the sections above, we've elected to use the former function.\n",
    "## Reference: https://www.geeksforgeeks.org/ml-one-hot-encoding/ & https://stackoverflow.com/questions/77643432/why-is-pd-get-dummies-returning-boolean-values-instead-of-the-binaries-of-0-1\n",
    "one_hot_encoded_df = pd.get_dummies(df, columns = ['Proximity to Ocean'], dtype=int)"
   ]
  },
  {
   "cell_type": "code",
   "execution_count": 15,
   "id": "5e33048b-870f-4f43-b993-f65609a9d4f9",
   "metadata": {},
   "outputs": [
    {
     "data": {
      "text/html": [
       "<div>\n",
       "<style scoped>\n",
       "    .dataframe tbody tr th:only-of-type {\n",
       "        vertical-align: middle;\n",
       "    }\n",
       "\n",
       "    .dataframe tbody tr th {\n",
       "        vertical-align: top;\n",
       "    }\n",
       "\n",
       "    .dataframe thead th {\n",
       "        text-align: right;\n",
       "    }\n",
       "</style>\n",
       "<table border=\"1\" class=\"dataframe\">\n",
       "  <thead>\n",
       "    <tr style=\"text-align: right;\">\n",
       "      <th></th>\n",
       "      <th>Longitude</th>\n",
       "      <th>Latitude</th>\n",
       "      <th>Housing Median Age</th>\n",
       "      <th>Total Rooms</th>\n",
       "      <th>Total Bedrooms</th>\n",
       "      <th>Population</th>\n",
       "      <th>Households</th>\n",
       "      <th>Median Income</th>\n",
       "      <th>Median House Value</th>\n",
       "      <th>Proximity to Ocean_&lt;1H OCEAN</th>\n",
       "      <th>Proximity to Ocean_INLAND</th>\n",
       "      <th>Proximity to Ocean_ISLAND</th>\n",
       "      <th>Proximity to Ocean_NEAR BAY</th>\n",
       "      <th>Proximity to Ocean_NEAR OCEAN</th>\n",
       "    </tr>\n",
       "  </thead>\n",
       "  <tbody>\n",
       "    <tr>\n",
       "      <th>0</th>\n",
       "      <td>-122.23</td>\n",
       "      <td>37.88</td>\n",
       "      <td>41.0</td>\n",
       "      <td>880.0</td>\n",
       "      <td>129.0</td>\n",
       "      <td>322.0</td>\n",
       "      <td>126.0</td>\n",
       "      <td>8.3252</td>\n",
       "      <td>452600.0</td>\n",
       "      <td>0</td>\n",
       "      <td>0</td>\n",
       "      <td>0</td>\n",
       "      <td>1</td>\n",
       "      <td>0</td>\n",
       "    </tr>\n",
       "    <tr>\n",
       "      <th>1</th>\n",
       "      <td>-122.22</td>\n",
       "      <td>37.86</td>\n",
       "      <td>21.0</td>\n",
       "      <td>7099.0</td>\n",
       "      <td>1106.0</td>\n",
       "      <td>2401.0</td>\n",
       "      <td>1138.0</td>\n",
       "      <td>8.3014</td>\n",
       "      <td>358500.0</td>\n",
       "      <td>0</td>\n",
       "      <td>0</td>\n",
       "      <td>0</td>\n",
       "      <td>1</td>\n",
       "      <td>0</td>\n",
       "    </tr>\n",
       "    <tr>\n",
       "      <th>2</th>\n",
       "      <td>-122.24</td>\n",
       "      <td>37.85</td>\n",
       "      <td>52.0</td>\n",
       "      <td>1467.0</td>\n",
       "      <td>190.0</td>\n",
       "      <td>496.0</td>\n",
       "      <td>177.0</td>\n",
       "      <td>7.2574</td>\n",
       "      <td>352100.0</td>\n",
       "      <td>0</td>\n",
       "      <td>0</td>\n",
       "      <td>0</td>\n",
       "      <td>1</td>\n",
       "      <td>0</td>\n",
       "    </tr>\n",
       "    <tr>\n",
       "      <th>3</th>\n",
       "      <td>-122.25</td>\n",
       "      <td>37.85</td>\n",
       "      <td>52.0</td>\n",
       "      <td>1274.0</td>\n",
       "      <td>235.0</td>\n",
       "      <td>558.0</td>\n",
       "      <td>219.0</td>\n",
       "      <td>5.6431</td>\n",
       "      <td>341300.0</td>\n",
       "      <td>0</td>\n",
       "      <td>0</td>\n",
       "      <td>0</td>\n",
       "      <td>1</td>\n",
       "      <td>0</td>\n",
       "    </tr>\n",
       "    <tr>\n",
       "      <th>4</th>\n",
       "      <td>-122.25</td>\n",
       "      <td>37.85</td>\n",
       "      <td>52.0</td>\n",
       "      <td>1627.0</td>\n",
       "      <td>280.0</td>\n",
       "      <td>565.0</td>\n",
       "      <td>259.0</td>\n",
       "      <td>3.8462</td>\n",
       "      <td>342200.0</td>\n",
       "      <td>0</td>\n",
       "      <td>0</td>\n",
       "      <td>0</td>\n",
       "      <td>1</td>\n",
       "      <td>0</td>\n",
       "    </tr>\n",
       "  </tbody>\n",
       "</table>\n",
       "</div>"
      ],
      "text/plain": [
       "   Longitude  Latitude  Housing Median Age  Total Rooms  Total Bedrooms  \\\n",
       "0    -122.23     37.88                41.0        880.0           129.0   \n",
       "1    -122.22     37.86                21.0       7099.0          1106.0   \n",
       "2    -122.24     37.85                52.0       1467.0           190.0   \n",
       "3    -122.25     37.85                52.0       1274.0           235.0   \n",
       "4    -122.25     37.85                52.0       1627.0           280.0   \n",
       "\n",
       "   Population  Households  Median Income  Median House Value  \\\n",
       "0       322.0       126.0         8.3252            452600.0   \n",
       "1      2401.0      1138.0         8.3014            358500.0   \n",
       "2       496.0       177.0         7.2574            352100.0   \n",
       "3       558.0       219.0         5.6431            341300.0   \n",
       "4       565.0       259.0         3.8462            342200.0   \n",
       "\n",
       "   Proximity to Ocean_<1H OCEAN  Proximity to Ocean_INLAND  \\\n",
       "0                             0                          0   \n",
       "1                             0                          0   \n",
       "2                             0                          0   \n",
       "3                             0                          0   \n",
       "4                             0                          0   \n",
       "\n",
       "   Proximity to Ocean_ISLAND  Proximity to Ocean_NEAR BAY  \\\n",
       "0                          0                            1   \n",
       "1                          0                            1   \n",
       "2                          0                            1   \n",
       "3                          0                            1   \n",
       "4                          0                            1   \n",
       "\n",
       "   Proximity to Ocean_NEAR OCEAN  \n",
       "0                              0  \n",
       "1                              0  \n",
       "2                              0  \n",
       "3                              0  \n",
       "4                              0  "
      ]
     },
     "execution_count": 15,
     "metadata": {},
     "output_type": "execute_result"
    }
   ],
   "source": [
    "one_hot_encoded_df.head()"
   ]
  },
  {
   "cell_type": "code",
   "execution_count": 16,
   "id": "f0323eea-d1e3-4060-8de1-8e2a55ab3120",
   "metadata": {},
   "outputs": [
    {
     "data": {
      "text/html": [
       "<div>\n",
       "<style scoped>\n",
       "    .dataframe tbody tr th:only-of-type {\n",
       "        vertical-align: middle;\n",
       "    }\n",
       "\n",
       "    .dataframe tbody tr th {\n",
       "        vertical-align: top;\n",
       "    }\n",
       "\n",
       "    .dataframe thead th {\n",
       "        text-align: right;\n",
       "    }\n",
       "</style>\n",
       "<table border=\"1\" class=\"dataframe\">\n",
       "  <thead>\n",
       "    <tr style=\"text-align: right;\">\n",
       "      <th></th>\n",
       "      <th>Longitude</th>\n",
       "      <th>Latitude</th>\n",
       "      <th>Housing Median Age</th>\n",
       "      <th>Total Rooms</th>\n",
       "      <th>Total Bedrooms</th>\n",
       "      <th>Population</th>\n",
       "      <th>Households</th>\n",
       "      <th>Median Income</th>\n",
       "      <th>Median House Value</th>\n",
       "      <th>Proximity to Ocean_&lt;1H OCEAN</th>\n",
       "      <th>Proximity to Ocean_INLAND</th>\n",
       "      <th>Proximity to Ocean_ISLAND</th>\n",
       "      <th>Proximity to Ocean_NEAR BAY</th>\n",
       "      <th>Proximity to Ocean_NEAR OCEAN</th>\n",
       "    </tr>\n",
       "  </thead>\n",
       "  <tbody>\n",
       "    <tr>\n",
       "      <th>20635</th>\n",
       "      <td>-121.09</td>\n",
       "      <td>39.48</td>\n",
       "      <td>25.0</td>\n",
       "      <td>1665.0</td>\n",
       "      <td>374.0</td>\n",
       "      <td>845.0</td>\n",
       "      <td>330.0</td>\n",
       "      <td>1.5603</td>\n",
       "      <td>78100.0</td>\n",
       "      <td>0</td>\n",
       "      <td>1</td>\n",
       "      <td>0</td>\n",
       "      <td>0</td>\n",
       "      <td>0</td>\n",
       "    </tr>\n",
       "    <tr>\n",
       "      <th>20636</th>\n",
       "      <td>-121.21</td>\n",
       "      <td>39.49</td>\n",
       "      <td>18.0</td>\n",
       "      <td>697.0</td>\n",
       "      <td>150.0</td>\n",
       "      <td>356.0</td>\n",
       "      <td>114.0</td>\n",
       "      <td>2.5568</td>\n",
       "      <td>77100.0</td>\n",
       "      <td>0</td>\n",
       "      <td>1</td>\n",
       "      <td>0</td>\n",
       "      <td>0</td>\n",
       "      <td>0</td>\n",
       "    </tr>\n",
       "    <tr>\n",
       "      <th>20637</th>\n",
       "      <td>-121.22</td>\n",
       "      <td>39.43</td>\n",
       "      <td>17.0</td>\n",
       "      <td>2254.0</td>\n",
       "      <td>485.0</td>\n",
       "      <td>1007.0</td>\n",
       "      <td>433.0</td>\n",
       "      <td>1.7000</td>\n",
       "      <td>92300.0</td>\n",
       "      <td>0</td>\n",
       "      <td>1</td>\n",
       "      <td>0</td>\n",
       "      <td>0</td>\n",
       "      <td>0</td>\n",
       "    </tr>\n",
       "    <tr>\n",
       "      <th>20638</th>\n",
       "      <td>-121.32</td>\n",
       "      <td>39.43</td>\n",
       "      <td>18.0</td>\n",
       "      <td>1860.0</td>\n",
       "      <td>409.0</td>\n",
       "      <td>741.0</td>\n",
       "      <td>349.0</td>\n",
       "      <td>1.8672</td>\n",
       "      <td>84700.0</td>\n",
       "      <td>0</td>\n",
       "      <td>1</td>\n",
       "      <td>0</td>\n",
       "      <td>0</td>\n",
       "      <td>0</td>\n",
       "    </tr>\n",
       "    <tr>\n",
       "      <th>20639</th>\n",
       "      <td>-121.24</td>\n",
       "      <td>39.37</td>\n",
       "      <td>16.0</td>\n",
       "      <td>2785.0</td>\n",
       "      <td>616.0</td>\n",
       "      <td>1387.0</td>\n",
       "      <td>530.0</td>\n",
       "      <td>2.3886</td>\n",
       "      <td>89400.0</td>\n",
       "      <td>0</td>\n",
       "      <td>1</td>\n",
       "      <td>0</td>\n",
       "      <td>0</td>\n",
       "      <td>0</td>\n",
       "    </tr>\n",
       "  </tbody>\n",
       "</table>\n",
       "</div>"
      ],
      "text/plain": [
       "       Longitude  Latitude  Housing Median Age  Total Rooms  Total Bedrooms  \\\n",
       "20635    -121.09     39.48                25.0       1665.0           374.0   \n",
       "20636    -121.21     39.49                18.0        697.0           150.0   \n",
       "20637    -121.22     39.43                17.0       2254.0           485.0   \n",
       "20638    -121.32     39.43                18.0       1860.0           409.0   \n",
       "20639    -121.24     39.37                16.0       2785.0           616.0   \n",
       "\n",
       "       Population  Households  Median Income  Median House Value  \\\n",
       "20635       845.0       330.0         1.5603             78100.0   \n",
       "20636       356.0       114.0         2.5568             77100.0   \n",
       "20637      1007.0       433.0         1.7000             92300.0   \n",
       "20638       741.0       349.0         1.8672             84700.0   \n",
       "20639      1387.0       530.0         2.3886             89400.0   \n",
       "\n",
       "       Proximity to Ocean_<1H OCEAN  Proximity to Ocean_INLAND  \\\n",
       "20635                             0                          1   \n",
       "20636                             0                          1   \n",
       "20637                             0                          1   \n",
       "20638                             0                          1   \n",
       "20639                             0                          1   \n",
       "\n",
       "       Proximity to Ocean_ISLAND  Proximity to Ocean_NEAR BAY  \\\n",
       "20635                          0                            0   \n",
       "20636                          0                            0   \n",
       "20637                          0                            0   \n",
       "20638                          0                            0   \n",
       "20639                          0                            0   \n",
       "\n",
       "       Proximity to Ocean_NEAR OCEAN  \n",
       "20635                              0  \n",
       "20636                              0  \n",
       "20637                              0  \n",
       "20638                              0  \n",
       "20639                              0  "
      ]
     },
     "execution_count": 16,
     "metadata": {},
     "output_type": "execute_result"
    }
   ],
   "source": [
    "one_hot_encoded_df.tail()"
   ]
  },
  {
   "cell_type": "code",
   "execution_count": 17,
   "id": "c92df54f-7d59-4ce3-87b2-80c1e745a998",
   "metadata": {},
   "outputs": [],
   "source": [
    "## NOTE: One thing to consider for categorical attribute - does there exist collinearity between it and longitude/latitude? If so, is it necessary\n",
    "## to include 'Proximity To Ocean' category at all? Consider when testing model assumptions in phase 2"
   ]
  },
  {
   "cell_type": "code",
   "execution_count": 18,
   "id": "13ef5ae8-f8b4-45ea-8a91-750bc8998403",
   "metadata": {},
   "outputs": [],
   "source": [
    "# Step 3: Outlier Detection and Removal - Identify and handle outliers that could skew the results.\n",
    "## Outliers for all categories were originally identified for each column (except 'Proximity to Ocean' which is unnecessary as the \n",
    "## new one-hot encoded columns are of a Bernouilli distribution) during the Exploratory Data Analysis. We have decided to run the outlier detection\n",
    "## function during this phase after the removal of the 'Total Bedrooms' null values, so results are as accurate as possible.\n",
    "## The question then becomes, what to do with the outliers? There are three options: drop them, cap them, or replace them with imputation\n",
    "## Reference: https://careerfoundry.com/en/blog/data-analytics/how-to-find-outliers/#:~:text=Finding%20outliers%20using%20statistical%20methods,-Since%20the%20data&text=Using%20the%20IQR%2C%20the%20outlier,Q1%20(Q3%E2%80%93Q1)."
   ]
  },
  {
   "cell_type": "code",
   "execution_count": 19,
   "id": "477462dd-5ca1-4163-8ceb-d59a6497672d",
   "metadata": {},
   "outputs": [],
   "source": [
    "## From CareerFoundry reference: IQR method of identifying outliers, where outliers are defined as the ones falling below Q1-1.5*IQR or above Q3+11.5*IQR\n",
    "## Q1 is the 25th percentile, Q3 is the 75th percentile, and IQR represents the interquartile range calculated by Q3-Q1\n",
    "def find_outliers(df):\n",
    " q1=df.quantile(0.25)\n",
    " q3=df.quantile(0.75)\n",
    " \n",
    " IQR=q3-q1\n",
    "\n",
    " outliers = df[((df<(q1-1.5*IQR)) | (df>(q3+1.5*IQR)))]\n",
    "\n",
    " return outliers"
   ]
  },
  {
   "cell_type": "code",
   "execution_count": 20,
   "id": "48cc9c81-0b7a-4d00-93cf-c7080516b1dc",
   "metadata": {},
   "outputs": [
    {
     "name": "stdout",
     "output_type": "stream",
     "text": [
      "1290\n",
      "39320.0\n",
      "5683.0\n"
     ]
    },
    {
     "data": {
      "text/plain": [
       "1         7099.0\n",
       "101       5806.0\n",
       "104       5871.0\n",
       "185       5963.0\n",
       "283      12842.0\n",
       "          ...   \n",
       "20543     6861.0\n",
       "20544     8800.0\n",
       "20563    12139.0\n",
       "20567     6809.0\n",
       "20629    10035.0\n",
       "Name: Total Rooms, Length: 1290, dtype: float64"
      ]
     },
     "execution_count": 20,
     "metadata": {},
     "output_type": "execute_result"
    }
   ],
   "source": [
    "## From CareerFoundry reference\n",
    "## These results show that the identified outliers for each feature translates to roughly ~3 to 6 percent of the dataset.\n",
    "\n",
    "outliers = find_outliers(one_hot_encoded_df['Total Rooms'])\n",
    "\n",
    "print(str(len(outliers)))\n",
    "\n",
    "print(str(outliers.max()))\n",
    "\n",
    "print(str(outliers.min()))\n",
    "\n",
    "outliers"
   ]
  },
  {
   "cell_type": "code",
   "execution_count": 21,
   "id": "91c32e65-0296-4b36-bcaf-6d4737d1f678",
   "metadata": {},
   "outputs": [
    {
     "name": "stdout",
     "output_type": "stream",
     "text": [
      "1271\n",
      "6445.0\n",
      "1174.0\n"
     ]
    },
    {
     "data": {
      "text/plain": [
       "95       2477.0\n",
       "96       1331.0\n",
       "98       1270.0\n",
       "100      1414.0\n",
       "101      1603.0\n",
       "          ...  \n",
       "20539    1516.0\n",
       "20543    1820.0\n",
       "20544    1857.0\n",
       "20563    2640.0\n",
       "20629    1856.0\n",
       "Name: Total Bedrooms, Length: 1271, dtype: float64"
      ]
     },
     "execution_count": 21,
     "metadata": {},
     "output_type": "execute_result"
    }
   ],
   "source": [
    "## From CareerFoundry reference\n",
    "\n",
    "outliers = find_outliers(one_hot_encoded_df['Total Bedrooms'])\n",
    "\n",
    "print(str(len(outliers)))\n",
    "\n",
    "print(str(outliers.max()))\n",
    "\n",
    "print(str(outliers.min()))\n",
    "\n",
    "outliers"
   ]
  },
  {
   "cell_type": "code",
   "execution_count": 22,
   "id": "a57cf47c-b53b-44c0-9091-b22a48834717",
   "metadata": {},
   "outputs": [
    {
     "name": "stdout",
     "output_type": "stream",
     "text": [
      "1190\n",
      "35682.0\n",
      "3126.0\n"
     ]
    },
    {
     "data": {
      "text/plain": [
       "95       3469.0\n",
       "185      4367.0\n",
       "283      4985.0\n",
       "460      3337.0\n",
       "485      3276.0\n",
       "          ...  \n",
       "20543    3717.0\n",
       "20544    6330.0\n",
       "20563    6837.0\n",
       "20604    3265.0\n",
       "20629    6912.0\n",
       "Name: Population, Length: 1190, dtype: float64"
      ]
     },
     "execution_count": 22,
     "metadata": {},
     "output_type": "execute_result"
    }
   ],
   "source": [
    "## From CareerFoundry reference\n",
    "## Discussion on outliers:\n",
    "## There are two extreme outliers for population: \n",
    "## 1. 35.35, -117.42 indicates a population of 35682. This district also has 4769 households,\n",
    "## and 4819 bedrooms, which would indicate on average that there are about 7 people per household, and about 1 bedroom for 7 people, which seems\n",
    "## inordinately high. Investigating the location, however, shows that this district is part of Marine Corps Base Camp Pendleton. The higher population\n",
    "## compared to other districts in the area likely includes Marines being housed in communal or shared housing, though whether these were counted as a \n",
    "## 'household' or in the room counts is questionable. Did the census count only households, rooms, and bedrooms for permanent housing in the district \n",
    "## (as most military bases have housing for those permanently based there), or did it also include barracks or other communal spaces housing multiple \n",
    "## soldiers in training? Are communal spaces being marked under total rooms instead?\n",
    "## 2. Similarly, 36.64, -121.79 indicates a population of 28566 with only 6082 households and 6445 bedrooms, indicating roughly 1 bedroom for 4 people.\n",
    "## While tthe population is very high - likely due to students attending California Sate University at Monterey Bay, the high number of households\n",
    "## and bedrooms comparatively puts it within normal range for the rest of the dataset (as shown in line 46).\n",
    "\n",
    "outliers = find_outliers(one_hot_encoded_df['Population'])\n",
    "\n",
    "print(str(len(outliers)))\n",
    "\n",
    "print(str(outliers.max()))\n",
    "\n",
    "print(str(outliers.min()))\n",
    "\n",
    "outliers"
   ]
  },
  {
   "cell_type": "code",
   "execution_count": 23,
   "id": "aae79844-a1e2-4ed2-9aad-ea250a414ded",
   "metadata": {},
   "outputs": [
    {
     "name": "stdout",
     "output_type": "stream",
     "text": [
      "2.9101935131022683\n"
     ]
    }
   ],
   "source": [
    "population_bedroom = one_hot_encoded_df['Population'].div(one_hot_encoded_df['Total Bedrooms'])\n",
    "print(population_bedroom.mean())"
   ]
  },
  {
   "cell_type": "code",
   "execution_count": 24,
   "id": "56b5c4fe-beee-4a6a-bbb1-1b502dca0c5b",
   "metadata": {},
   "outputs": [
    {
     "name": "stdout",
     "output_type": "stream",
     "text": [
      "1210\n",
      "6082.0\n",
      "1091.0\n"
     ]
    },
    {
     "data": {
      "text/plain": [
       "1        1138.0\n",
       "95       2323.0\n",
       "96       1180.0\n",
       "98       1250.0\n",
       "100      1250.0\n",
       "          ...  \n",
       "20541    1115.0\n",
       "20543    1767.0\n",
       "20544    1832.0\n",
       "20563    2358.0\n",
       "20629    1818.0\n",
       "Name: Households, Length: 1210, dtype: float64"
      ]
     },
     "execution_count": 24,
     "metadata": {},
     "output_type": "execute_result"
    }
   ],
   "source": [
    "## From CareerFoundry reference\n",
    "\n",
    "outliers = find_outliers(one_hot_encoded_df['Households'])\n",
    "\n",
    "print(str(len(outliers)))\n",
    "\n",
    "print(str(outliers.max()))\n",
    "\n",
    "print(str(outliers.min()))\n",
    "\n",
    "outliers"
   ]
  },
  {
   "cell_type": "code",
   "execution_count": 25,
   "id": "57dde31a-0cf7-4f95-b456-b252ca0bb857",
   "metadata": {},
   "outputs": [
    {
     "name": "stdout",
     "output_type": "stream",
     "text": [
      "670\n",
      "15.0001\n",
      "8.0158\n"
     ]
    },
    {
     "data": {
      "text/plain": [
       "0         8.3252\n",
       "1         8.3014\n",
       "131      11.6017\n",
       "134       8.2049\n",
       "135       8.4010\n",
       "          ...   \n",
       "20426    10.0472\n",
       "20427     8.6499\n",
       "20428     8.7288\n",
       "20436    12.5420\n",
       "20503     8.2787\n",
       "Name: Median Income, Length: 670, dtype: float64"
      ]
     },
     "execution_count": 25,
     "metadata": {},
     "output_type": "execute_result"
    }
   ],
   "source": [
    "## From CareerFoundry reference\n",
    "\n",
    "outliers = find_outliers(one_hot_encoded_df['Median Income'])\n",
    "\n",
    "print(str(len(outliers)))\n",
    "\n",
    "print(str(outliers.max()))\n",
    "\n",
    "print(str(outliers.min()))\n",
    "\n",
    "outliers"
   ]
  },
  {
   "cell_type": "code",
   "execution_count": 26,
   "id": "5a34d7d9-c525-4d42-b2c0-3aba21e851cf",
   "metadata": {},
   "outputs": [
    {
     "name": "stdout",
     "output_type": "stream",
     "text": [
      "1064\n",
      "500001.0\n",
      "482700.0\n"
     ]
    },
    {
     "data": {
      "text/plain": [
       "89       500001.0\n",
       "140      483300.0\n",
       "459      500001.0\n",
       "489      489600.0\n",
       "493      500001.0\n",
       "           ...   \n",
       "20422    500001.0\n",
       "20426    500001.0\n",
       "20427    500001.0\n",
       "20436    500001.0\n",
       "20443    500001.0\n",
       "Name: Median House Value, Length: 1064, dtype: float64"
      ]
     },
     "execution_count": 26,
     "metadata": {},
     "output_type": "execute_result"
    }
   ],
   "source": [
    "## From CareerFoundry reference\n",
    "\n",
    "outliers = find_outliers(one_hot_encoded_df['Median House Value'])\n",
    "\n",
    "print(str(len(outliers)))\n",
    "\n",
    "print(str(outliers.max()))\n",
    "\n",
    "print(str(outliers.min()))\n",
    "\n",
    "outliers"
   ]
  },
  {
   "cell_type": "code",
   "execution_count": 27,
   "id": "44aa32ef-0361-491a-a2b6-a93e317527de",
   "metadata": {},
   "outputs": [],
   "source": [
    "## Reference: Google AI\n",
    "def remove_outliers_iqr(df, columns=None):\n",
    "    if columns is None:\n",
    "        columns = df.select_dtypes(include='number').columns\n",
    "\n",
    "    for col in columns:\n",
    "        Q1 = df[col].quantile(0.25)\n",
    "        Q3 = df[col].quantile(0.75)\n",
    "        IQR = Q3 - Q1\n",
    "        lower_bound = Q1 - 1.5 * IQR\n",
    "        upper_bound = Q3 + 1.5 * IQR\n",
    "        df = df[(df[col] >= lower_bound) & (df[col] <= upper_bound)]\n",
    "\n",
    "    return df"
   ]
  },
  {
   "cell_type": "code",
   "execution_count": 28,
   "id": "b00faf0b-0205-46cc-a5ac-492e4c40722d",
   "metadata": {},
   "outputs": [],
   "source": [
    "new_df = remove_outliers_iqr(one_hot_encoded_df, ['Total Rooms', 'Total Bedrooms', 'Population', 'Households', 'Median Income', 'Median House Value'])"
   ]
  },
  {
   "cell_type": "code",
   "execution_count": 29,
   "id": "55cc3d25-d765-4f2b-a99d-d17bdf4b9832",
   "metadata": {},
   "outputs": [
    {
     "data": {
      "text/html": [
       "<div>\n",
       "<style scoped>\n",
       "    .dataframe tbody tr th:only-of-type {\n",
       "        vertical-align: middle;\n",
       "    }\n",
       "\n",
       "    .dataframe tbody tr th {\n",
       "        vertical-align: top;\n",
       "    }\n",
       "\n",
       "    .dataframe thead th {\n",
       "        text-align: right;\n",
       "    }\n",
       "</style>\n",
       "<table border=\"1\" class=\"dataframe\">\n",
       "  <thead>\n",
       "    <tr style=\"text-align: right;\">\n",
       "      <th></th>\n",
       "      <th>Longitude</th>\n",
       "      <th>Latitude</th>\n",
       "      <th>Housing Median Age</th>\n",
       "      <th>Total Rooms</th>\n",
       "      <th>Total Bedrooms</th>\n",
       "      <th>Population</th>\n",
       "      <th>Households</th>\n",
       "      <th>Median Income</th>\n",
       "      <th>Median House Value</th>\n",
       "      <th>Proximity to Ocean_&lt;1H OCEAN</th>\n",
       "      <th>Proximity to Ocean_INLAND</th>\n",
       "      <th>Proximity to Ocean_ISLAND</th>\n",
       "      <th>Proximity to Ocean_NEAR BAY</th>\n",
       "      <th>Proximity to Ocean_NEAR OCEAN</th>\n",
       "    </tr>\n",
       "  </thead>\n",
       "  <tbody>\n",
       "    <tr>\n",
       "      <th>count</th>\n",
       "      <td>16724.000000</td>\n",
       "      <td>16724.000000</td>\n",
       "      <td>16724.000000</td>\n",
       "      <td>16724.000000</td>\n",
       "      <td>16724.000000</td>\n",
       "      <td>16724.000000</td>\n",
       "      <td>16724.000000</td>\n",
       "      <td>16724.000000</td>\n",
       "      <td>16724.000000</td>\n",
       "      <td>16724.000000</td>\n",
       "      <td>16724.000000</td>\n",
       "      <td>16724.000000</td>\n",
       "      <td>16724.000000</td>\n",
       "      <td>16724.000000</td>\n",
       "    </tr>\n",
       "    <tr>\n",
       "      <th>mean</th>\n",
       "      <td>-119.615090</td>\n",
       "      <td>35.716089</td>\n",
       "      <td>29.657379</td>\n",
       "      <td>2071.602069</td>\n",
       "      <td>426.680878</td>\n",
       "      <td>1148.708981</td>\n",
       "      <td>399.249402</td>\n",
       "      <td>3.577614</td>\n",
       "      <td>185327.295862</td>\n",
       "      <td>0.428546</td>\n",
       "      <td>0.338496</td>\n",
       "      <td>0.000299</td>\n",
       "      <td>0.107391</td>\n",
       "      <td>0.125269</td>\n",
       "    </tr>\n",
       "    <tr>\n",
       "      <th>std</th>\n",
       "      <td>2.005492</td>\n",
       "      <td>2.173731</td>\n",
       "      <td>12.218904</td>\n",
       "      <td>1023.792361</td>\n",
       "      <td>200.455468</td>\n",
       "      <td>548.663279</td>\n",
       "      <td>185.928287</td>\n",
       "      <td>1.446461</td>\n",
       "      <td>92030.433835</td>\n",
       "      <td>0.494883</td>\n",
       "      <td>0.473212</td>\n",
       "      <td>0.017289</td>\n",
       "      <td>0.309618</td>\n",
       "      <td>0.331034</td>\n",
       "    </tr>\n",
       "    <tr>\n",
       "      <th>min</th>\n",
       "      <td>-124.350000</td>\n",
       "      <td>32.540000</td>\n",
       "      <td>1.000000</td>\n",
       "      <td>2.000000</td>\n",
       "      <td>2.000000</td>\n",
       "      <td>3.000000</td>\n",
       "      <td>2.000000</td>\n",
       "      <td>0.499900</td>\n",
       "      <td>14999.000000</td>\n",
       "      <td>0.000000</td>\n",
       "      <td>0.000000</td>\n",
       "      <td>0.000000</td>\n",
       "      <td>0.000000</td>\n",
       "      <td>0.000000</td>\n",
       "    </tr>\n",
       "    <tr>\n",
       "      <th>25%</th>\n",
       "      <td>-121.782500</td>\n",
       "      <td>33.940000</td>\n",
       "      <td>19.000000</td>\n",
       "      <td>1348.000000</td>\n",
       "      <td>282.000000</td>\n",
       "      <td>753.000000</td>\n",
       "      <td>267.000000</td>\n",
       "      <td>2.482100</td>\n",
       "      <td>112500.000000</td>\n",
       "      <td>0.000000</td>\n",
       "      <td>0.000000</td>\n",
       "      <td>0.000000</td>\n",
       "      <td>0.000000</td>\n",
       "      <td>0.000000</td>\n",
       "    </tr>\n",
       "    <tr>\n",
       "      <th>50%</th>\n",
       "      <td>-118.710000</td>\n",
       "      <td>34.405000</td>\n",
       "      <td>30.000000</td>\n",
       "      <td>1932.000000</td>\n",
       "      <td>401.000000</td>\n",
       "      <td>1086.000000</td>\n",
       "      <td>378.500000</td>\n",
       "      <td>3.395800</td>\n",
       "      <td>169200.000000</td>\n",
       "      <td>0.000000</td>\n",
       "      <td>0.000000</td>\n",
       "      <td>0.000000</td>\n",
       "      <td>0.000000</td>\n",
       "      <td>0.000000</td>\n",
       "    </tr>\n",
       "    <tr>\n",
       "      <th>75%</th>\n",
       "      <td>-118.030000</td>\n",
       "      <td>37.750000</td>\n",
       "      <td>38.000000</td>\n",
       "      <td>2685.000000</td>\n",
       "      <td>555.000000</td>\n",
       "      <td>1504.000000</td>\n",
       "      <td>520.000000</td>\n",
       "      <td>4.500000</td>\n",
       "      <td>240300.000000</td>\n",
       "      <td>1.000000</td>\n",
       "      <td>1.000000</td>\n",
       "      <td>0.000000</td>\n",
       "      <td>0.000000</td>\n",
       "      <td>0.000000</td>\n",
       "    </tr>\n",
       "    <tr>\n",
       "      <th>max</th>\n",
       "      <td>-114.490000</td>\n",
       "      <td>41.950000</td>\n",
       "      <td>52.000000</td>\n",
       "      <td>5675.000000</td>\n",
       "      <td>1053.000000</td>\n",
       "      <td>2717.000000</td>\n",
       "      <td>906.000000</td>\n",
       "      <td>8.015800</td>\n",
       "      <td>457800.000000</td>\n",
       "      <td>1.000000</td>\n",
       "      <td>1.000000</td>\n",
       "      <td>1.000000</td>\n",
       "      <td>1.000000</td>\n",
       "      <td>1.000000</td>\n",
       "    </tr>\n",
       "  </tbody>\n",
       "</table>\n",
       "</div>"
      ],
      "text/plain": [
       "          Longitude      Latitude  Housing Median Age   Total Rooms  \\\n",
       "count  16724.000000  16724.000000        16724.000000  16724.000000   \n",
       "mean    -119.615090     35.716089           29.657379   2071.602069   \n",
       "std        2.005492      2.173731           12.218904   1023.792361   \n",
       "min     -124.350000     32.540000            1.000000      2.000000   \n",
       "25%     -121.782500     33.940000           19.000000   1348.000000   \n",
       "50%     -118.710000     34.405000           30.000000   1932.000000   \n",
       "75%     -118.030000     37.750000           38.000000   2685.000000   \n",
       "max     -114.490000     41.950000           52.000000   5675.000000   \n",
       "\n",
       "       Total Bedrooms    Population    Households  Median Income  \\\n",
       "count    16724.000000  16724.000000  16724.000000   16724.000000   \n",
       "mean       426.680878   1148.708981    399.249402       3.577614   \n",
       "std        200.455468    548.663279    185.928287       1.446461   \n",
       "min          2.000000      3.000000      2.000000       0.499900   \n",
       "25%        282.000000    753.000000    267.000000       2.482100   \n",
       "50%        401.000000   1086.000000    378.500000       3.395800   \n",
       "75%        555.000000   1504.000000    520.000000       4.500000   \n",
       "max       1053.000000   2717.000000    906.000000       8.015800   \n",
       "\n",
       "       Median House Value  Proximity to Ocean_<1H OCEAN  \\\n",
       "count        16724.000000                  16724.000000   \n",
       "mean        185327.295862                      0.428546   \n",
       "std          92030.433835                      0.494883   \n",
       "min          14999.000000                      0.000000   \n",
       "25%         112500.000000                      0.000000   \n",
       "50%         169200.000000                      0.000000   \n",
       "75%         240300.000000                      1.000000   \n",
       "max         457800.000000                      1.000000   \n",
       "\n",
       "       Proximity to Ocean_INLAND  Proximity to Ocean_ISLAND  \\\n",
       "count               16724.000000               16724.000000   \n",
       "mean                    0.338496                   0.000299   \n",
       "std                     0.473212                   0.017289   \n",
       "min                     0.000000                   0.000000   \n",
       "25%                     0.000000                   0.000000   \n",
       "50%                     0.000000                   0.000000   \n",
       "75%                     1.000000                   0.000000   \n",
       "max                     1.000000                   1.000000   \n",
       "\n",
       "       Proximity to Ocean_NEAR BAY  Proximity to Ocean_NEAR OCEAN  \n",
       "count                 16724.000000                   16724.000000  \n",
       "mean                      0.107391                       0.125269  \n",
       "std                       0.309618                       0.331034  \n",
       "min                       0.000000                       0.000000  \n",
       "25%                       0.000000                       0.000000  \n",
       "50%                       0.000000                       0.000000  \n",
       "75%                       0.000000                       0.000000  \n",
       "max                       1.000000                       1.000000  "
      ]
     },
     "execution_count": 29,
     "metadata": {},
     "output_type": "execute_result"
    }
   ],
   "source": [
    "new_df.describe()"
   ]
  },
  {
   "cell_type": "code",
   "execution_count": 30,
   "id": "d390a7a3-f422-4b13-8149-5d1b2f2a28d6",
   "metadata": {},
   "outputs": [],
   "source": [
    "## Removed outliers totaled ~ 18% of original dataset"
   ]
  },
  {
   "cell_type": "code",
   "execution_count": 31,
   "id": "e48df3c6-6ee5-4372-b96b-ed128c163385",
   "metadata": {},
   "outputs": [],
   "source": [
    "# Review distributions and relationship with housing prices now that outliers have been removed"
   ]
  },
  {
   "cell_type": "code",
   "execution_count": 32,
   "id": "80cb130f-4fb3-4984-84a5-ab5a1ab86ae1",
   "metadata": {},
   "outputs": [
    {
     "data": {
      "text/plain": [
       "array([[<Axes: title={'center': 'Total Rooms'}>]], dtype=object)"
      ]
     },
     "execution_count": 32,
     "metadata": {},
     "output_type": "execute_result"
    },
    {
     "data": {
      "image/png": "[encoded data removed]",
      "text/plain": [
       "<Figure size 640x480 with 1 Axes>"
      ]
     },
     "metadata": {},
     "output_type": "display_data"
    }
   ],
   "source": [
    "new_df.hist(column='Total Rooms')"
   ]
  },
  {
   "cell_type": "code",
   "execution_count": 33,
   "id": "5e6a6893-c961-491a-81ea-85b020ed486f",
   "metadata": {},
   "outputs": [
    {
     "data": {
      "text/plain": [
       "array([[<Axes: title={'center': 'Total Bedrooms'}>]], dtype=object)"
      ]
     },
     "execution_count": 33,
     "metadata": {},
     "output_type": "execute_result"
    },
    {
     "data": {
      "image/png": "[encoded data removed]",
      "text/plain": [
       "<Figure size 640x480 with 1 Axes>"
      ]
     },
     "metadata": {},
     "output_type": "display_data"
    }
   ],
   "source": [
    "new_df.hist(column='Total Bedrooms')"
   ]
  },
  {
   "cell_type": "code",
   "execution_count": 34,
   "id": "2c323715-6d59-4b94-b847-adb37ce95b96",
   "metadata": {},
   "outputs": [
    {
     "data": {
      "text/plain": [
       "array([[<Axes: title={'center': 'Population'}>]], dtype=object)"
      ]
     },
     "execution_count": 34,
     "metadata": {},
     "output_type": "execute_result"
    },
    {
     "data": {
      "image/png": "[encoded data removed]",
      "text/plain": [
       "<Figure size 640x480 with 1 Axes>"
      ]
     },
     "metadata": {},
     "output_type": "display_data"
    }
   ],
   "source": [
    "new_df.hist(column='Population')"
   ]
  },
  {
   "cell_type": "code",
   "execution_count": 35,
   "id": "9807a600-dada-4d85-9fa7-bde5b136f5e8",
   "metadata": {},
   "outputs": [
    {
     "data": {
      "text/plain": [
       "array([[<Axes: title={'center': 'Households'}>]], dtype=object)"
      ]
     },
     "execution_count": 35,
     "metadata": {},
     "output_type": "execute_result"
    },
    {
     "data": {
      "image/png": "[encoded data removed]",
      "text/plain": [
       "<Figure size 640x480 with 1 Axes>"
      ]
     },
     "metadata": {},
     "output_type": "display_data"
    }
   ],
   "source": [
    "new_df.hist(column='Households')"
   ]
  },
  {
   "cell_type": "code",
   "execution_count": 36,
   "id": "ffc9e7a1-f72f-4bd1-88a0-02dc83902654",
   "metadata": {},
   "outputs": [
    {
     "data": {
      "text/plain": [
       "array([[<Axes: title={'center': 'Median Income'}>]], dtype=object)"
      ]
     },
     "execution_count": 36,
     "metadata": {},
     "output_type": "execute_result"
    },
    {
     "data": {
      "image/png": "[encoded data removed]",
      "text/plain": [
       "<Figure size 640x480 with 1 Axes>"
      ]
     },
     "metadata": {},
     "output_type": "display_data"
    }
   ],
   "source": [
    "new_df.hist(column='Median Income')"
   ]
  },
  {
   "cell_type": "code",
   "execution_count": 37,
   "id": "d0b8600a-bbc2-42d2-8b97-32b3dc8701c9",
   "metadata": {},
   "outputs": [
    {
     "data": {
      "text/plain": [
       "array([[<Axes: title={'center': 'Median House Value'}>]], dtype=object)"
      ]
     },
     "execution_count": 37,
     "metadata": {},
     "output_type": "execute_result"
    },
    {
     "data": {
      "image/png": "[encoded data removed]",
      "text/plain": [
       "<Figure size 640x480 with 1 Axes>"
      ]
     },
     "metadata": {},
     "output_type": "display_data"
    }
   ],
   "source": [
    "new_df.hist(column='Median House Value')"
   ]
  },
  {
   "cell_type": "code",
   "execution_count": 38,
   "id": "ffc7e201-481c-4412-a09c-afd713fc2aa1",
   "metadata": {},
   "outputs": [
    {
     "data": {
      "text/plain": [
       "array([[<Axes: title={'center': 'Longitude'}>]], dtype=object)"
      ]
     },
     "execution_count": 38,
     "metadata": {},
     "output_type": "execute_result"
    },
    {
     "data": {
      "image/png": "[encoded data removed]",
      "text/plain": [
       "<Figure size 640x480 with 1 Axes>"
      ]
     },
     "metadata": {},
     "output_type": "display_data"
    }
   ],
   "source": [
    "new_df.hist(column='Longitude')\n"
   ]
  },
  {
   "cell_type": "code",
   "execution_count": 39,
   "id": "a4c6b5c5-e1b2-4fe2-a86d-d1dbdd81aeac",
   "metadata": {},
   "outputs": [
    {
     "data": {
      "text/plain": [
       "array([[<Axes: title={'center': 'Latitude'}>]], dtype=object)"
      ]
     },
     "execution_count": 39,
     "metadata": {},
     "output_type": "execute_result"
    },
    {
     "data": {
      "image/png": "[encoded data removed]",
      "text/plain": [
       "<Figure size 640x480 with 1 Axes>"
      ]
     },
     "metadata": {},
     "output_type": "display_data"
    }
   ],
   "source": [
    "new_df.hist(column='Latitude')"
   ]
  },
  {
   "cell_type": "code",
   "execution_count": 40,
   "id": "6671b152-151d-4476-a6e6-f4c265713d75",
   "metadata": {},
   "outputs": [
    {
     "data": {
      "text/plain": [
       "array([[<Axes: title={'center': 'Housing Median Age'}>]], dtype=object)"
      ]
     },
     "execution_count": 40,
     "metadata": {},
     "output_type": "execute_result"
    },
    {
     "data": {
      "image/png": "[encoded data removed]",
      "text/plain": [
       "<Figure size 640x480 with 1 Axes>"
      ]
     },
     "metadata": {},
     "output_type": "display_data"
    }
   ],
   "source": [
    "new_df.hist(column='Housing Median Age')"
   ]
  },
  {
   "cell_type": "code",
   "execution_count": 41,
   "id": "c3e0a1ef-4e1d-4c24-bb20-1e94e8f391eb",
   "metadata": {},
   "outputs": [],
   "source": [
    "## Step #4: Scaling Features: Normalize or standardize the features to ensure that they are on a similar scale.\n",
    "\n",
    "## Normalization on all data sets:"
   ]
  },
  {
   "cell_type": "code",
   "execution_count": 42,
   "id": "28d5fa32-7963-4e11-9ebf-cfe05db5f7db",
   "metadata": {},
   "outputs": [
    {
     "data": {
      "text/html": [
       "<div>\n",
       "<style scoped>\n",
       "    .dataframe tbody tr th:only-of-type {\n",
       "        vertical-align: middle;\n",
       "    }\n",
       "\n",
       "    .dataframe tbody tr th {\n",
       "        vertical-align: top;\n",
       "    }\n",
       "\n",
       "    .dataframe thead th {\n",
       "        text-align: right;\n",
       "    }\n",
       "</style>\n",
       "<table border=\"1\" class=\"dataframe\">\n",
       "  <thead>\n",
       "    <tr style=\"text-align: right;\">\n",
       "      <th></th>\n",
       "      <th>Longitude</th>\n",
       "      <th>Latitude</th>\n",
       "      <th>Housing Median Age</th>\n",
       "      <th>Total Rooms</th>\n",
       "      <th>Total Bedrooms</th>\n",
       "      <th>Population</th>\n",
       "      <th>Households</th>\n",
       "      <th>Median Income</th>\n",
       "      <th>Median House Value</th>\n",
       "      <th>Proximity to Ocean_&lt;1H OCEAN</th>\n",
       "      <th>Proximity to Ocean_INLAND</th>\n",
       "      <th>Proximity to Ocean_ISLAND</th>\n",
       "      <th>Proximity to Ocean_NEAR BAY</th>\n",
       "      <th>Proximity to Ocean_NEAR OCEAN</th>\n",
       "    </tr>\n",
       "  </thead>\n",
       "  <tbody>\n",
       "    <tr>\n",
       "      <th>2</th>\n",
       "      <td>-0.000347</td>\n",
       "      <td>0.000107</td>\n",
       "      <td>0.000148</td>\n",
       "      <td>0.004166</td>\n",
       "      <td>0.000540</td>\n",
       "      <td>0.001409</td>\n",
       "      <td>0.000503</td>\n",
       "      <td>0.000021</td>\n",
       "      <td>0.999990</td>\n",
       "      <td>0</td>\n",
       "      <td>0</td>\n",
       "      <td>0</td>\n",
       "      <td>1</td>\n",
       "      <td>0</td>\n",
       "    </tr>\n",
       "    <tr>\n",
       "      <th>3</th>\n",
       "      <td>-0.000358</td>\n",
       "      <td>0.000111</td>\n",
       "      <td>0.000152</td>\n",
       "      <td>0.003733</td>\n",
       "      <td>0.000689</td>\n",
       "      <td>0.001635</td>\n",
       "      <td>0.000642</td>\n",
       "      <td>0.000017</td>\n",
       "      <td>0.999991</td>\n",
       "      <td>0</td>\n",
       "      <td>0</td>\n",
       "      <td>0</td>\n",
       "      <td>1</td>\n",
       "      <td>0</td>\n",
       "    </tr>\n",
       "    <tr>\n",
       "      <th>4</th>\n",
       "      <td>-0.000357</td>\n",
       "      <td>0.000111</td>\n",
       "      <td>0.000152</td>\n",
       "      <td>0.004754</td>\n",
       "      <td>0.000818</td>\n",
       "      <td>0.001651</td>\n",
       "      <td>0.000757</td>\n",
       "      <td>0.000011</td>\n",
       "      <td>0.999987</td>\n",
       "      <td>0</td>\n",
       "      <td>0</td>\n",
       "      <td>0</td>\n",
       "      <td>1</td>\n",
       "      <td>0</td>\n",
       "    </tr>\n",
       "    <tr>\n",
       "      <th>5</th>\n",
       "      <td>-0.000453</td>\n",
       "      <td>0.000140</td>\n",
       "      <td>0.000193</td>\n",
       "      <td>0.003407</td>\n",
       "      <td>0.000790</td>\n",
       "      <td>0.001531</td>\n",
       "      <td>0.000716</td>\n",
       "      <td>0.000015</td>\n",
       "      <td>0.999992</td>\n",
       "      <td>0</td>\n",
       "      <td>0</td>\n",
       "      <td>0</td>\n",
       "      <td>1</td>\n",
       "      <td>0</td>\n",
       "    </tr>\n",
       "    <tr>\n",
       "      <th>6</th>\n",
       "      <td>-0.000409</td>\n",
       "      <td>0.000126</td>\n",
       "      <td>0.000174</td>\n",
       "      <td>0.008472</td>\n",
       "      <td>0.001634</td>\n",
       "      <td>0.003656</td>\n",
       "      <td>0.001718</td>\n",
       "      <td>0.000012</td>\n",
       "      <td>0.999955</td>\n",
       "      <td>0</td>\n",
       "      <td>0</td>\n",
       "      <td>0</td>\n",
       "      <td>1</td>\n",
       "      <td>0</td>\n",
       "    </tr>\n",
       "  </tbody>\n",
       "</table>\n",
       "</div>"
      ],
      "text/plain": [
       "   Longitude  Latitude  Housing Median Age  Total Rooms  Total Bedrooms  \\\n",
       "2  -0.000347  0.000107            0.000148     0.004166        0.000540   \n",
       "3  -0.000358  0.000111            0.000152     0.003733        0.000689   \n",
       "4  -0.000357  0.000111            0.000152     0.004754        0.000818   \n",
       "5  -0.000453  0.000140            0.000193     0.003407        0.000790   \n",
       "6  -0.000409  0.000126            0.000174     0.008472        0.001634   \n",
       "\n",
       "   Population  Households  Median Income  Median House Value  \\\n",
       "2    0.001409    0.000503       0.000021            0.999990   \n",
       "3    0.001635    0.000642       0.000017            0.999991   \n",
       "4    0.001651    0.000757       0.000011            0.999987   \n",
       "5    0.001531    0.000716       0.000015            0.999992   \n",
       "6    0.003656    0.001718       0.000012            0.999955   \n",
       "\n",
       "   Proximity to Ocean_<1H OCEAN  Proximity to Ocean_INLAND  \\\n",
       "2                             0                          0   \n",
       "3                             0                          0   \n",
       "4                             0                          0   \n",
       "5                             0                          0   \n",
       "6                             0                          0   \n",
       "\n",
       "   Proximity to Ocean_ISLAND  Proximity to Ocean_NEAR BAY  \\\n",
       "2                          0                            1   \n",
       "3                          0                            1   \n",
       "4                          0                            1   \n",
       "5                          0                            1   \n",
       "6                          0                            1   \n",
       "\n",
       "   Proximity to Ocean_NEAR OCEAN  \n",
       "2                              0  \n",
       "3                              0  \n",
       "4                              0  \n",
       "5                              0  \n",
       "6                              0  "
      ]
     },
     "execution_count": 42,
     "metadata": {},
     "output_type": "execute_result"
    }
   ],
   "source": [
    "## References: https://stackoverflow.com/questions/24645153/pandas-dataframe-columns-scaling-with-sklearn and\n",
    "## https://www.geeksforgeeks.org/ml-feature-scaling-part-2/\n",
    "from sklearn.preprocessing import Normalizer\n",
    " \n",
    "scaler = Normalizer()\n",
    "scaled_df = new_df.copy()\n",
    "scaled_df[['Latitude', 'Longitude', 'Housing Median Age', 'Total Rooms', 'Total Bedrooms', 'Population', 'Households', 'Median Income', 'Median House Value']] = scaler.fit_transform(scaled_df[['Latitude', 'Longitude', 'Housing Median Age', 'Total Rooms', 'Total Bedrooms', 'Population', 'Households', 'Median Income', 'Median House Value']])\n",
    "scaled_df.head()"
   ]
  },
  {
   "cell_type": "code",
   "execution_count": 43,
   "id": "01c61b9c-6723-472f-85e3-ab39bcf26d53",
   "metadata": {},
   "outputs": [
    {
     "data": {
      "text/plain": [
       "array([[<Axes: title={'center': 'Total Rooms'}>]], dtype=object)"
      ]
     },
     "execution_count": 43,
     "metadata": {},
     "output_type": "execute_result"
    },
    {
     "data": {
      "image/png": "[encoded data removed]",
      "text/plain": [
       "<Figure size 640x480 with 1 Axes>"
      ]
     },
     "metadata": {},
     "output_type": "display_data"
    }
   ],
   "source": [
    "## The distribution is no longer normal or skewed normal. Try standardization.\n",
    "scaled_df.hist(column='Total Rooms')"
   ]
  },
  {
   "cell_type": "code",
   "execution_count": 44,
   "id": "7ab45952-49de-467c-93bc-a77aacabe2db",
   "metadata": {},
   "outputs": [
    {
     "data": {
      "text/html": [
       "<div>\n",
       "<style scoped>\n",
       "    .dataframe tbody tr th:only-of-type {\n",
       "        vertical-align: middle;\n",
       "    }\n",
       "\n",
       "    .dataframe tbody tr th {\n",
       "        vertical-align: top;\n",
       "    }\n",
       "\n",
       "    .dataframe thead th {\n",
       "        text-align: right;\n",
       "    }\n",
       "</style>\n",
       "<table border=\"1\" class=\"dataframe\">\n",
       "  <thead>\n",
       "    <tr style=\"text-align: right;\">\n",
       "      <th></th>\n",
       "      <th>Longitude</th>\n",
       "      <th>Latitude</th>\n",
       "      <th>Housing Median Age</th>\n",
       "      <th>Total Rooms</th>\n",
       "      <th>Total Bedrooms</th>\n",
       "      <th>Population</th>\n",
       "      <th>Households</th>\n",
       "      <th>Median Income</th>\n",
       "      <th>Median House Value</th>\n",
       "      <th>Proximity to Ocean_&lt;1H OCEAN</th>\n",
       "      <th>Proximity to Ocean_INLAND</th>\n",
       "      <th>Proximity to Ocean_ISLAND</th>\n",
       "      <th>Proximity to Ocean_NEAR BAY</th>\n",
       "      <th>Proximity to Ocean_NEAR OCEAN</th>\n",
       "    </tr>\n",
       "  </thead>\n",
       "  <tbody>\n",
       "    <tr>\n",
       "      <th>2</th>\n",
       "      <td>-1.308900</td>\n",
       "      <td>0.98171</td>\n",
       "      <td>1.828584</td>\n",
       "      <td>-0.590569</td>\n",
       "      <td>-1.180751</td>\n",
       "      <td>-1.189670</td>\n",
       "      <td>-1.195386</td>\n",
       "      <td>2.544069</td>\n",
       "      <td>1.812202</td>\n",
       "      <td>0</td>\n",
       "      <td>0</td>\n",
       "      <td>0</td>\n",
       "      <td>1</td>\n",
       "      <td>0</td>\n",
       "    </tr>\n",
       "    <tr>\n",
       "      <th>3</th>\n",
       "      <td>-1.313887</td>\n",
       "      <td>0.98171</td>\n",
       "      <td>1.828584</td>\n",
       "      <td>-0.779090</td>\n",
       "      <td>-0.956255</td>\n",
       "      <td>-1.076665</td>\n",
       "      <td>-0.969486</td>\n",
       "      <td>1.428001</td>\n",
       "      <td>1.694846</td>\n",
       "      <td>0</td>\n",
       "      <td>0</td>\n",
       "      <td>0</td>\n",
       "      <td>1</td>\n",
       "      <td>0</td>\n",
       "    </tr>\n",
       "    <tr>\n",
       "      <th>4</th>\n",
       "      <td>-1.313887</td>\n",
       "      <td>0.98171</td>\n",
       "      <td>1.828584</td>\n",
       "      <td>-0.434283</td>\n",
       "      <td>-0.731760</td>\n",
       "      <td>-1.063907</td>\n",
       "      <td>-0.754342</td>\n",
       "      <td>0.185690</td>\n",
       "      <td>1.704625</td>\n",
       "      <td>0</td>\n",
       "      <td>0</td>\n",
       "      <td>0</td>\n",
       "      <td>1</td>\n",
       "      <td>0</td>\n",
       "    </tr>\n",
       "    <tr>\n",
       "      <th>5</th>\n",
       "      <td>-1.313887</td>\n",
       "      <td>0.98171</td>\n",
       "      <td>1.828584</td>\n",
       "      <td>-1.125850</td>\n",
       "      <td>-1.066009</td>\n",
       "      <td>-1.340952</td>\n",
       "      <td>-1.109329</td>\n",
       "      <td>0.317464</td>\n",
       "      <td>0.916819</td>\n",
       "      <td>0</td>\n",
       "      <td>0</td>\n",
       "      <td>0</td>\n",
       "      <td>1</td>\n",
       "      <td>0</td>\n",
       "    </tr>\n",
       "    <tr>\n",
       "      <th>6</th>\n",
       "      <td>-1.313887</td>\n",
       "      <td>0.97711</td>\n",
       "      <td>1.828584</td>\n",
       "      <td>0.452642</td>\n",
       "      <td>0.310897</td>\n",
       "      <td>-0.099716</td>\n",
       "      <td>0.617195</td>\n",
       "      <td>0.056336</td>\n",
       "      <td>1.237374</td>\n",
       "      <td>0</td>\n",
       "      <td>0</td>\n",
       "      <td>0</td>\n",
       "      <td>1</td>\n",
       "      <td>0</td>\n",
       "    </tr>\n",
       "  </tbody>\n",
       "</table>\n",
       "</div>"
      ],
      "text/plain": [
       "   Longitude  Latitude  Housing Median Age  Total Rooms  Total Bedrooms  \\\n",
       "2  -1.308900   0.98171            1.828584    -0.590569       -1.180751   \n",
       "3  -1.313887   0.98171            1.828584    -0.779090       -0.956255   \n",
       "4  -1.313887   0.98171            1.828584    -0.434283       -0.731760   \n",
       "5  -1.313887   0.98171            1.828584    -1.125850       -1.066009   \n",
       "6  -1.313887   0.97711            1.828584     0.452642        0.310897   \n",
       "\n",
       "   Population  Households  Median Income  Median House Value  \\\n",
       "2   -1.189670   -1.195386       2.544069            1.812202   \n",
       "3   -1.076665   -0.969486       1.428001            1.694846   \n",
       "4   -1.063907   -0.754342       0.185690            1.704625   \n",
       "5   -1.340952   -1.109329       0.317464            0.916819   \n",
       "6   -0.099716    0.617195       0.056336            1.237374   \n",
       "\n",
       "   Proximity to Ocean_<1H OCEAN  Proximity to Ocean_INLAND  \\\n",
       "2                             0                          0   \n",
       "3                             0                          0   \n",
       "4                             0                          0   \n",
       "5                             0                          0   \n",
       "6                             0                          0   \n",
       "\n",
       "   Proximity to Ocean_ISLAND  Proximity to Ocean_NEAR BAY  \\\n",
       "2                          0                            1   \n",
       "3                          0                            1   \n",
       "4                          0                            1   \n",
       "5                          0                            1   \n",
       "6                          0                            1   \n",
       "\n",
       "   Proximity to Ocean_NEAR OCEAN  \n",
       "2                              0  \n",
       "3                              0  \n",
       "4                              0  \n",
       "5                              0  \n",
       "6                              0  "
      ]
     },
     "execution_count": 44,
     "metadata": {},
     "output_type": "execute_result"
    }
   ],
   "source": [
    "## Reference: https://www.geeksforgeeks.org/ml-feature-scaling-part-2/\n",
    "\n",
    "from sklearn.preprocessing import StandardScaler\n",
    " \n",
    "scaler = StandardScaler()\n",
    "standard_df = new_df.copy()\n",
    "standard_df[['Latitude', 'Longitude', 'Housing Median Age', 'Total Rooms', 'Total Bedrooms', 'Population', 'Households', 'Median Income', 'Median House Value']] = scaler.fit_transform(standard_df[['Latitude', 'Longitude', 'Housing Median Age', 'Total Rooms', 'Total Bedrooms', 'Population', 'Households', 'Median Income', 'Median House Value']])\n",
    "standard_df.head()"
   ]
  },
  {
   "cell_type": "code",
   "execution_count": 45,
   "id": "4752f6cd-1835-4f31-87e1-20ea607b219b",
   "metadata": {},
   "outputs": [
    {
     "data": {
      "text/plain": [
       "array([[<Axes: title={'center': 'Total Rooms'}>]], dtype=object)"
      ]
     },
     "execution_count": 45,
     "metadata": {},
     "output_type": "execute_result"
    },
    {
     "data": {
      "image/png": "[encoded data removed]",
      "text/plain": [
       "<Figure size 640x480 with 1 Axes>"
      ]
     },
     "metadata": {},
     "output_type": "display_data"
    }
   ],
   "source": [
    "standard_df.hist(column='Total Rooms')"
   ]
  },
  {
   "cell_type": "code",
   "execution_count": 46,
   "id": "7d1d5c98-5a71-4c6b-a008-aadd04a24d76",
   "metadata": {},
   "outputs": [
    {
     "data": {
      "text/plain": [
       "array([[<Axes: title={'center': 'Latitude'}>]], dtype=object)"
      ]
     },
     "execution_count": 46,
     "metadata": {},
     "output_type": "execute_result"
    },
    {
     "data": {
      "image/png": "[encoded data removed]",
      "text/plain": [
       "<Figure size 640x480 with 1 Axes>"
      ]
     },
     "metadata": {},
     "output_type": "display_data"
    }
   ],
   "source": [
    "standard_df.hist(column='Latitude')"
   ]
  },
  {
   "cell_type": "code",
   "execution_count": 47,
   "id": "24b29cf7-539c-48e0-94d6-b7c33dcc09f3",
   "metadata": {},
   "outputs": [
    {
     "data": {
      "text/plain": [
       "array([[<Axes: title={'center': 'Longitude'}>]], dtype=object)"
      ]
     },
     "execution_count": 47,
     "metadata": {},
     "output_type": "execute_result"
    },
    {
     "data": {
      "image/png": "[encoded data removed]",
      "text/plain": [
       "<Figure size 640x480 with 1 Axes>"
      ]
     },
     "metadata": {},
     "output_type": "display_data"
    }
   ],
   "source": [
    "standard_df.hist(column='Longitude')"
   ]
  },
  {
   "cell_type": "code",
   "execution_count": 48,
   "id": "c8199147-3e9f-4b18-9ccc-586fb4ef09f3",
   "metadata": {},
   "outputs": [
    {
     "data": {
      "text/plain": [
       "array([[<Axes: title={'center': 'Total Bedrooms'}>]], dtype=object)"
      ]
     },
     "execution_count": 48,
     "metadata": {},
     "output_type": "execute_result"
    },
    {
     "data": {
      "image/png": "[encoded data removed]",
      "text/plain": [
       "<Figure size 640x480 with 1 Axes>"
      ]
     },
     "metadata": {},
     "output_type": "display_data"
    }
   ],
   "source": [
    "standard_df.hist(column='Total Bedrooms')"
   ]
  },
  {
   "cell_type": "code",
   "execution_count": null,
   "id": "a0726227-66d0-41c0-9daa-eb85bfa926ff",
   "metadata": {},
   "outputs": [],
   "source": [
    "## When training the model, run both standardized and normalized sets through training for comparison. Hypothesis: Cap outlier \n",
    "## with standardization will perform better."
   ]
  }
 ],
 "metadata": {
  "kernelspec": {
   "display_name": "Python 3 (ipykernel)",
   "language": "python",
   "name": "python3"
  },
  "language_info": {
   "codemirror_mode": {
    "name": "ipython",
    "version": 3
   },
   "file_extension": ".py",
   "mimetype": "text/x-python",
   "name": "python",
   "nbconvert_exporter": "python",
   "pygments_lexer": "ipython3",
   "version": "3.12.4"
  }
 },
 "nbformat": 4,
 "nbformat_minor": 5
}
